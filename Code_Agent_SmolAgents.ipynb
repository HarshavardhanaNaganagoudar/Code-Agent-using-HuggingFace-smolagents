{
  "nbformat": 4,
  "nbformat_minor": 0,
  "metadata": {
    "colab": {
      "provenance": []
    },
    "kernelspec": {
      "name": "python3",
      "display_name": "Python 3"
    },
    "language_info": {
      "name": "python"
    },
    "widgets": {
      "application/vnd.jupyter.widget-state+json": {
        "f2b4734add8d43d087a533752aa000eb": {
          "model_module": "@jupyter-widgets/controls",
          "model_name": "VBoxModel",
          "model_module_version": "1.5.0",
          "state": {
            "_dom_classes": [],
            "_model_module": "@jupyter-widgets/controls",
            "_model_module_version": "1.5.0",
            "_model_name": "VBoxModel",
            "_view_count": null,
            "_view_module": "@jupyter-widgets/controls",
            "_view_module_version": "1.5.0",
            "_view_name": "VBoxView",
            "box_style": "",
            "children": [],
            "layout": "IPY_MODEL_29e701df68f7454ba324b9a11b1e18ed"
          }
        },
        "3701381451ee4be495813e7e06923317": {
          "model_module": "@jupyter-widgets/controls",
          "model_name": "HTMLModel",
          "model_module_version": "1.5.0",
          "state": {
            "_dom_classes": [],
            "_model_module": "@jupyter-widgets/controls",
            "_model_module_version": "1.5.0",
            "_model_name": "HTMLModel",
            "_view_count": null,
            "_view_module": "@jupyter-widgets/controls",
            "_view_module_version": "1.5.0",
            "_view_name": "HTMLView",
            "description": "",
            "description_tooltip": null,
            "layout": "IPY_MODEL_e639f296bba4452c96523d1df36c6b7c",
            "placeholder": "​",
            "style": "IPY_MODEL_0379bdd1fd4247beb1e31136f16f9f60",
            "value": "<center> <img\nsrc=https://huggingface.co/front/assets/huggingface_logo-noborder.svg\nalt='Hugging Face'> <br> Copy a token from <a\nhref=\"https://huggingface.co/settings/tokens\" target=\"_blank\">your Hugging Face\ntokens page</a> and paste it below. <br> Immediately click login after copying\nyour token or it might be stored in plain text in this notebook file. </center>"
          }
        },
        "29e4c917dc94446b98735d8bb95b2a5a": {
          "model_module": "@jupyter-widgets/controls",
          "model_name": "PasswordModel",
          "model_module_version": "1.5.0",
          "state": {
            "_dom_classes": [],
            "_model_module": "@jupyter-widgets/controls",
            "_model_module_version": "1.5.0",
            "_model_name": "PasswordModel",
            "_view_count": null,
            "_view_module": "@jupyter-widgets/controls",
            "_view_module_version": "1.5.0",
            "_view_name": "PasswordView",
            "continuous_update": true,
            "description": "Token:",
            "description_tooltip": null,
            "disabled": false,
            "layout": "IPY_MODEL_1092687e6e6f4bb88b136afca9b350f2",
            "placeholder": "​",
            "style": "IPY_MODEL_7b43735f6a9c4328b89921a73dd5ee89",
            "value": ""
          }
        },
        "30102cbc58344dafb2289670cca51c5a": {
          "model_module": "@jupyter-widgets/controls",
          "model_name": "CheckboxModel",
          "model_module_version": "1.5.0",
          "state": {
            "_dom_classes": [],
            "_model_module": "@jupyter-widgets/controls",
            "_model_module_version": "1.5.0",
            "_model_name": "CheckboxModel",
            "_view_count": null,
            "_view_module": "@jupyter-widgets/controls",
            "_view_module_version": "1.5.0",
            "_view_name": "CheckboxView",
            "description": "Add token as git credential?",
            "description_tooltip": null,
            "disabled": false,
            "indent": true,
            "layout": "IPY_MODEL_7904016fbcec4786b08bd42c65e7208a",
            "style": "IPY_MODEL_b81e385a9e5947e9b9300cf73b4ce79b",
            "value": true
          }
        },
        "38cfa83e9bf64af681a759384b7148c9": {
          "model_module": "@jupyter-widgets/controls",
          "model_name": "ButtonModel",
          "model_module_version": "1.5.0",
          "state": {
            "_dom_classes": [],
            "_model_module": "@jupyter-widgets/controls",
            "_model_module_version": "1.5.0",
            "_model_name": "ButtonModel",
            "_view_count": null,
            "_view_module": "@jupyter-widgets/controls",
            "_view_module_version": "1.5.0",
            "_view_name": "ButtonView",
            "button_style": "",
            "description": "Login",
            "disabled": false,
            "icon": "",
            "layout": "IPY_MODEL_a6e324c399eb4374b1b1fccb7a22f807",
            "style": "IPY_MODEL_e43827e1ffd24882820bae6e72f000a0",
            "tooltip": ""
          }
        },
        "2dae2842fa9b4ff6b059f88b3bdb35dd": {
          "model_module": "@jupyter-widgets/controls",
          "model_name": "HTMLModel",
          "model_module_version": "1.5.0",
          "state": {
            "_dom_classes": [],
            "_model_module": "@jupyter-widgets/controls",
            "_model_module_version": "1.5.0",
            "_model_name": "HTMLModel",
            "_view_count": null,
            "_view_module": "@jupyter-widgets/controls",
            "_view_module_version": "1.5.0",
            "_view_name": "HTMLView",
            "description": "",
            "description_tooltip": null,
            "layout": "IPY_MODEL_63bd13606eed4c6399df0152b1a48fad",
            "placeholder": "​",
            "style": "IPY_MODEL_8678f32246994da8ab61f6aff132f0d9",
            "value": "\n<b>Pro Tip:</b> If you don't already have one, you can create a dedicated\n'notebooks' token with 'write' access, that you can then easily reuse for all\nnotebooks. </center>"
          }
        },
        "29e701df68f7454ba324b9a11b1e18ed": {
          "model_module": "@jupyter-widgets/base",
          "model_name": "LayoutModel",
          "model_module_version": "1.2.0",
          "state": {
            "_model_module": "@jupyter-widgets/base",
            "_model_module_version": "1.2.0",
            "_model_name": "LayoutModel",
            "_view_count": null,
            "_view_module": "@jupyter-widgets/base",
            "_view_module_version": "1.2.0",
            "_view_name": "LayoutView",
            "align_content": null,
            "align_items": "center",
            "align_self": null,
            "border": null,
            "bottom": null,
            "display": "flex",
            "flex": null,
            "flex_flow": "column",
            "grid_area": null,
            "grid_auto_columns": null,
            "grid_auto_flow": null,
            "grid_auto_rows": null,
            "grid_column": null,
            "grid_gap": null,
            "grid_row": null,
            "grid_template_areas": null,
            "grid_template_columns": null,
            "grid_template_rows": null,
            "height": null,
            "justify_content": null,
            "justify_items": null,
            "left": null,
            "margin": null,
            "max_height": null,
            "max_width": null,
            "min_height": null,
            "min_width": null,
            "object_fit": null,
            "object_position": null,
            "order": null,
            "overflow": null,
            "overflow_x": null,
            "overflow_y": null,
            "padding": null,
            "right": null,
            "top": null,
            "visibility": null,
            "width": "50%"
          }
        },
        "e639f296bba4452c96523d1df36c6b7c": {
          "model_module": "@jupyter-widgets/base",
          "model_name": "LayoutModel",
          "model_module_version": "1.2.0",
          "state": {
            "_model_module": "@jupyter-widgets/base",
            "_model_module_version": "1.2.0",
            "_model_name": "LayoutModel",
            "_view_count": null,
            "_view_module": "@jupyter-widgets/base",
            "_view_module_version": "1.2.0",
            "_view_name": "LayoutView",
            "align_content": null,
            "align_items": null,
            "align_self": null,
            "border": null,
            "bottom": null,
            "display": null,
            "flex": null,
            "flex_flow": null,
            "grid_area": null,
            "grid_auto_columns": null,
            "grid_auto_flow": null,
            "grid_auto_rows": null,
            "grid_column": null,
            "grid_gap": null,
            "grid_row": null,
            "grid_template_areas": null,
            "grid_template_columns": null,
            "grid_template_rows": null,
            "height": null,
            "justify_content": null,
            "justify_items": null,
            "left": null,
            "margin": null,
            "max_height": null,
            "max_width": null,
            "min_height": null,
            "min_width": null,
            "object_fit": null,
            "object_position": null,
            "order": null,
            "overflow": null,
            "overflow_x": null,
            "overflow_y": null,
            "padding": null,
            "right": null,
            "top": null,
            "visibility": null,
            "width": null
          }
        },
        "0379bdd1fd4247beb1e31136f16f9f60": {
          "model_module": "@jupyter-widgets/controls",
          "model_name": "DescriptionStyleModel",
          "model_module_version": "1.5.0",
          "state": {
            "_model_module": "@jupyter-widgets/controls",
            "_model_module_version": "1.5.0",
            "_model_name": "DescriptionStyleModel",
            "_view_count": null,
            "_view_module": "@jupyter-widgets/base",
            "_view_module_version": "1.2.0",
            "_view_name": "StyleView",
            "description_width": ""
          }
        },
        "1092687e6e6f4bb88b136afca9b350f2": {
          "model_module": "@jupyter-widgets/base",
          "model_name": "LayoutModel",
          "model_module_version": "1.2.0",
          "state": {
            "_model_module": "@jupyter-widgets/base",
            "_model_module_version": "1.2.0",
            "_model_name": "LayoutModel",
            "_view_count": null,
            "_view_module": "@jupyter-widgets/base",
            "_view_module_version": "1.2.0",
            "_view_name": "LayoutView",
            "align_content": null,
            "align_items": null,
            "align_self": null,
            "border": null,
            "bottom": null,
            "display": null,
            "flex": null,
            "flex_flow": null,
            "grid_area": null,
            "grid_auto_columns": null,
            "grid_auto_flow": null,
            "grid_auto_rows": null,
            "grid_column": null,
            "grid_gap": null,
            "grid_row": null,
            "grid_template_areas": null,
            "grid_template_columns": null,
            "grid_template_rows": null,
            "height": null,
            "justify_content": null,
            "justify_items": null,
            "left": null,
            "margin": null,
            "max_height": null,
            "max_width": null,
            "min_height": null,
            "min_width": null,
            "object_fit": null,
            "object_position": null,
            "order": null,
            "overflow": null,
            "overflow_x": null,
            "overflow_y": null,
            "padding": null,
            "right": null,
            "top": null,
            "visibility": null,
            "width": null
          }
        },
        "7b43735f6a9c4328b89921a73dd5ee89": {
          "model_module": "@jupyter-widgets/controls",
          "model_name": "DescriptionStyleModel",
          "model_module_version": "1.5.0",
          "state": {
            "_model_module": "@jupyter-widgets/controls",
            "_model_module_version": "1.5.0",
            "_model_name": "DescriptionStyleModel",
            "_view_count": null,
            "_view_module": "@jupyter-widgets/base",
            "_view_module_version": "1.2.0",
            "_view_name": "StyleView",
            "description_width": ""
          }
        },
        "7904016fbcec4786b08bd42c65e7208a": {
          "model_module": "@jupyter-widgets/base",
          "model_name": "LayoutModel",
          "model_module_version": "1.2.0",
          "state": {
            "_model_module": "@jupyter-widgets/base",
            "_model_module_version": "1.2.0",
            "_model_name": "LayoutModel",
            "_view_count": null,
            "_view_module": "@jupyter-widgets/base",
            "_view_module_version": "1.2.0",
            "_view_name": "LayoutView",
            "align_content": null,
            "align_items": null,
            "align_self": null,
            "border": null,
            "bottom": null,
            "display": null,
            "flex": null,
            "flex_flow": null,
            "grid_area": null,
            "grid_auto_columns": null,
            "grid_auto_flow": null,
            "grid_auto_rows": null,
            "grid_column": null,
            "grid_gap": null,
            "grid_row": null,
            "grid_template_areas": null,
            "grid_template_columns": null,
            "grid_template_rows": null,
            "height": null,
            "justify_content": null,
            "justify_items": null,
            "left": null,
            "margin": null,
            "max_height": null,
            "max_width": null,
            "min_height": null,
            "min_width": null,
            "object_fit": null,
            "object_position": null,
            "order": null,
            "overflow": null,
            "overflow_x": null,
            "overflow_y": null,
            "padding": null,
            "right": null,
            "top": null,
            "visibility": null,
            "width": null
          }
        },
        "b81e385a9e5947e9b9300cf73b4ce79b": {
          "model_module": "@jupyter-widgets/controls",
          "model_name": "DescriptionStyleModel",
          "model_module_version": "1.5.0",
          "state": {
            "_model_module": "@jupyter-widgets/controls",
            "_model_module_version": "1.5.0",
            "_model_name": "DescriptionStyleModel",
            "_view_count": null,
            "_view_module": "@jupyter-widgets/base",
            "_view_module_version": "1.2.0",
            "_view_name": "StyleView",
            "description_width": ""
          }
        },
        "a6e324c399eb4374b1b1fccb7a22f807": {
          "model_module": "@jupyter-widgets/base",
          "model_name": "LayoutModel",
          "model_module_version": "1.2.0",
          "state": {
            "_model_module": "@jupyter-widgets/base",
            "_model_module_version": "1.2.0",
            "_model_name": "LayoutModel",
            "_view_count": null,
            "_view_module": "@jupyter-widgets/base",
            "_view_module_version": "1.2.0",
            "_view_name": "LayoutView",
            "align_content": null,
            "align_items": null,
            "align_self": null,
            "border": null,
            "bottom": null,
            "display": null,
            "flex": null,
            "flex_flow": null,
            "grid_area": null,
            "grid_auto_columns": null,
            "grid_auto_flow": null,
            "grid_auto_rows": null,
            "grid_column": null,
            "grid_gap": null,
            "grid_row": null,
            "grid_template_areas": null,
            "grid_template_columns": null,
            "grid_template_rows": null,
            "height": null,
            "justify_content": null,
            "justify_items": null,
            "left": null,
            "margin": null,
            "max_height": null,
            "max_width": null,
            "min_height": null,
            "min_width": null,
            "object_fit": null,
            "object_position": null,
            "order": null,
            "overflow": null,
            "overflow_x": null,
            "overflow_y": null,
            "padding": null,
            "right": null,
            "top": null,
            "visibility": null,
            "width": null
          }
        },
        "e43827e1ffd24882820bae6e72f000a0": {
          "model_module": "@jupyter-widgets/controls",
          "model_name": "ButtonStyleModel",
          "model_module_version": "1.5.0",
          "state": {
            "_model_module": "@jupyter-widgets/controls",
            "_model_module_version": "1.5.0",
            "_model_name": "ButtonStyleModel",
            "_view_count": null,
            "_view_module": "@jupyter-widgets/base",
            "_view_module_version": "1.2.0",
            "_view_name": "StyleView",
            "button_color": null,
            "font_weight": ""
          }
        },
        "63bd13606eed4c6399df0152b1a48fad": {
          "model_module": "@jupyter-widgets/base",
          "model_name": "LayoutModel",
          "model_module_version": "1.2.0",
          "state": {
            "_model_module": "@jupyter-widgets/base",
            "_model_module_version": "1.2.0",
            "_model_name": "LayoutModel",
            "_view_count": null,
            "_view_module": "@jupyter-widgets/base",
            "_view_module_version": "1.2.0",
            "_view_name": "LayoutView",
            "align_content": null,
            "align_items": null,
            "align_self": null,
            "border": null,
            "bottom": null,
            "display": null,
            "flex": null,
            "flex_flow": null,
            "grid_area": null,
            "grid_auto_columns": null,
            "grid_auto_flow": null,
            "grid_auto_rows": null,
            "grid_column": null,
            "grid_gap": null,
            "grid_row": null,
            "grid_template_areas": null,
            "grid_template_columns": null,
            "grid_template_rows": null,
            "height": null,
            "justify_content": null,
            "justify_items": null,
            "left": null,
            "margin": null,
            "max_height": null,
            "max_width": null,
            "min_height": null,
            "min_width": null,
            "object_fit": null,
            "object_position": null,
            "order": null,
            "overflow": null,
            "overflow_x": null,
            "overflow_y": null,
            "padding": null,
            "right": null,
            "top": null,
            "visibility": null,
            "width": null
          }
        },
        "8678f32246994da8ab61f6aff132f0d9": {
          "model_module": "@jupyter-widgets/controls",
          "model_name": "DescriptionStyleModel",
          "model_module_version": "1.5.0",
          "state": {
            "_model_module": "@jupyter-widgets/controls",
            "_model_module_version": "1.5.0",
            "_model_name": "DescriptionStyleModel",
            "_view_count": null,
            "_view_module": "@jupyter-widgets/base",
            "_view_module_version": "1.2.0",
            "_view_name": "StyleView",
            "description_width": ""
          }
        },
        "105fcb7a1c104cb78c444b91539f87d0": {
          "model_module": "@jupyter-widgets/controls",
          "model_name": "LabelModel",
          "model_module_version": "1.5.0",
          "state": {
            "_dom_classes": [],
            "_model_module": "@jupyter-widgets/controls",
            "_model_module_version": "1.5.0",
            "_model_name": "LabelModel",
            "_view_count": null,
            "_view_module": "@jupyter-widgets/controls",
            "_view_module_version": "1.5.0",
            "_view_name": "LabelView",
            "description": "",
            "description_tooltip": null,
            "layout": "IPY_MODEL_437ed1ec3e5d4f97bf40266b100ceb57",
            "placeholder": "​",
            "style": "IPY_MODEL_60f87d329a23422882537583380cad7b",
            "value": "Connecting..."
          }
        },
        "437ed1ec3e5d4f97bf40266b100ceb57": {
          "model_module": "@jupyter-widgets/base",
          "model_name": "LayoutModel",
          "model_module_version": "1.2.0",
          "state": {
            "_model_module": "@jupyter-widgets/base",
            "_model_module_version": "1.2.0",
            "_model_name": "LayoutModel",
            "_view_count": null,
            "_view_module": "@jupyter-widgets/base",
            "_view_module_version": "1.2.0",
            "_view_name": "LayoutView",
            "align_content": null,
            "align_items": null,
            "align_self": null,
            "border": null,
            "bottom": null,
            "display": null,
            "flex": null,
            "flex_flow": null,
            "grid_area": null,
            "grid_auto_columns": null,
            "grid_auto_flow": null,
            "grid_auto_rows": null,
            "grid_column": null,
            "grid_gap": null,
            "grid_row": null,
            "grid_template_areas": null,
            "grid_template_columns": null,
            "grid_template_rows": null,
            "height": null,
            "justify_content": null,
            "justify_items": null,
            "left": null,
            "margin": null,
            "max_height": null,
            "max_width": null,
            "min_height": null,
            "min_width": null,
            "object_fit": null,
            "object_position": null,
            "order": null,
            "overflow": null,
            "overflow_x": null,
            "overflow_y": null,
            "padding": null,
            "right": null,
            "top": null,
            "visibility": null,
            "width": null
          }
        },
        "60f87d329a23422882537583380cad7b": {
          "model_module": "@jupyter-widgets/controls",
          "model_name": "DescriptionStyleModel",
          "model_module_version": "1.5.0",
          "state": {
            "_model_module": "@jupyter-widgets/controls",
            "_model_module_version": "1.5.0",
            "_model_name": "DescriptionStyleModel",
            "_view_count": null,
            "_view_module": "@jupyter-widgets/base",
            "_view_module_version": "1.2.0",
            "_view_name": "StyleView",
            "description_width": ""
          }
        }
      }
    }
  },
  "cells": [
    {
      "cell_type": "markdown",
      "source": [
        "**Building code-agent with huggingfaces smolagents and exploring its capabilities**"
      ],
      "metadata": {
        "id": "NuKIoVeWspWl"
      }
    },
    {
      "cell_type": "markdown",
      "source": [
        "**Installing the packages**"
      ],
      "metadata": {
        "id": "78CeHhoHtFF3"
      }
    },
    {
      "cell_type": "code",
      "execution_count": null,
      "metadata": {
        "id": "tW835-zw5v7c"
      },
      "outputs": [],
      "source": [
        "!pip install -q requests gradio smolagents python-dotenv\n"
      ]
    },
    {
      "cell_type": "markdown",
      "source": [
        "**Importing packages and logging into huggingface**"
      ],
      "metadata": {
        "id": "CvvBiX-RtKHq"
      }
    },
    {
      "cell_type": "code",
      "source": [
        "# Warning control\n",
        "import warnings\n",
        "\n",
        "warnings.filterwarnings(\"ignore\")\n",
        "\n",
        "import os\n",
        "import io\n",
        "import IPython.display\n",
        "from PIL import Image\n",
        "import base64\n",
        "\n",
        "from dotenv import load_dotenv, find_dotenv\n",
        "\n",
        "_ = load_dotenv() # read local .env file\n",
        "\n",
        "from huggingface_hub import login\n",
        "\n",
        "login()"
      ],
      "metadata": {
        "colab": {
          "base_uri": "https://localhost:8080/",
          "height": 17,
          "referenced_widgets": [
            "f2b4734add8d43d087a533752aa000eb",
            "3701381451ee4be495813e7e06923317",
            "29e4c917dc94446b98735d8bb95b2a5a",
            "30102cbc58344dafb2289670cca51c5a",
            "38cfa83e9bf64af681a759384b7148c9",
            "2dae2842fa9b4ff6b059f88b3bdb35dd",
            "29e701df68f7454ba324b9a11b1e18ed",
            "e639f296bba4452c96523d1df36c6b7c",
            "0379bdd1fd4247beb1e31136f16f9f60",
            "1092687e6e6f4bb88b136afca9b350f2",
            "7b43735f6a9c4328b89921a73dd5ee89",
            "7904016fbcec4786b08bd42c65e7208a",
            "b81e385a9e5947e9b9300cf73b4ce79b",
            "a6e324c399eb4374b1b1fccb7a22f807",
            "e43827e1ffd24882820bae6e72f000a0",
            "63bd13606eed4c6399df0152b1a48fad",
            "8678f32246994da8ab61f6aff132f0d9",
            "105fcb7a1c104cb78c444b91539f87d0",
            "437ed1ec3e5d4f97bf40266b100ceb57",
            "60f87d329a23422882537583380cad7b"
          ]
        },
        "id": "unR-W1i_5z7L",
        "outputId": "234b48d6-b76e-4429-9a03-d6ad9bf26525"
      },
      "execution_count": 108,
      "outputs": [
        {
          "output_type": "display_data",
          "data": {
            "text/plain": [
              "VBox(children=(HTML(value='<center> <img\\nsrc=https://huggingface.co/front/assets/huggingface_logo-noborder.sv…"
            ],
            "application/vnd.jupyter.widget-view+json": {
              "version_major": 2,
              "version_minor": 0,
              "model_id": "f2b4734add8d43d087a533752aa000eb"
            }
          },
          "metadata": {}
        }
      ]
    },
    {
      "cell_type": "code",
      "source": [
        "import numpy as np\n",
        "import pandas as pd"
      ],
      "metadata": {
        "id": "5emS4JssZCQk"
      },
      "execution_count": 109,
      "outputs": []
    },
    {
      "cell_type": "markdown",
      "source": [
        "**Defining the model**"
      ],
      "metadata": {
        "id": "sHNPViS5uEiB"
      }
    },
    {
      "cell_type": "code",
      "source": [
        "from smolagents import HfApiModel, CodeAgent\n",
        "\n",
        "\n",
        "model = HfApiModel(\n",
        "    \"Qwen/Qwen2.5-72B-Instruct\",\n",
        "    provider=\"together\", # Choose a specific inference provider\n",
        "    max_tokens=4096,\n",
        "    temperature=0.1\n",
        ")"
      ],
      "metadata": {
        "id": "1LioohPU7uPC"
      },
      "execution_count": 110,
      "outputs": []
    },
    {
      "cell_type": "markdown",
      "source": [
        "**Setting up the agent**"
      ],
      "metadata": {
        "id": "rwrIW-HpuJFu"
      }
    },
    {
      "cell_type": "code",
      "source": [
        "agent = CodeAgent(\n",
        "    model=model,\n",
        "    tools=[],\n",
        "    max_steps=10,\n",
        "    additional_authorized_imports=[\"pandas\", \"numpy\"],\n",
        "    verbosity_level=2\n",
        ")\n",
        "agent.logger.console.width=66"
      ],
      "metadata": {
        "id": "NNdwzmKD50GG"
      },
      "execution_count": 111,
      "outputs": []
    },
    {
      "cell_type": "markdown",
      "source": [
        "**Creating the sample data consisting of distance, time and speed**"
      ],
      "metadata": {
        "id": "Z_uqSqx-uP9R"
      }
    },
    {
      "cell_type": "code",
      "source": [
        "import pandas as pd\n",
        "\n",
        "# Create sample data\n",
        "data = {\n",
        "    \"distance_km\": [10, 25, 50, 100, 5],\n",
        "    \"time_hr\": [0.5, 1, 1.5, 2, 0.25],\n",
        "}\n",
        "\n",
        "# Calculate speed\n",
        "data[\"speed_kmph\"] = [d / t for d, t in zip(data[\"distance_km\"], data[\"time_hr\"])]\n",
        "\n",
        "# Create DataFrame\n",
        "df = pd.DataFrame(data)\n",
        "\n",
        "print(df)\n"
      ],
      "metadata": {
        "id": "e7KcGYJrNve0"
      },
      "execution_count": null,
      "outputs": []
    },
    {
      "cell_type": "markdown",
      "source": [
        "**Dropping the speed column**"
      ],
      "metadata": {
        "id": "WcZNghG5uWKR"
      }
    },
    {
      "cell_type": "code",
      "source": [
        "df = df.drop(\"speed_kmph\", axis=1)\n",
        "df.head()"
      ],
      "metadata": {
        "id": "k9i9aS_lX7dQ"
      },
      "execution_count": null,
      "outputs": []
    },
    {
      "cell_type": "markdown",
      "source": [
        "**Defining the task and running the agent**"
      ],
      "metadata": {
        "id": "sW4wDcHpund7"
      }
    },
    {
      "cell_type": "code",
      "source": [
        "task = \"\"\"Here is a dataframe of different distance and time taken.\n",
        "Could you give me a comparative table (as a dataframe) and calculate speed column for each of them?\n",
        "\"\"\"\n",
        "agent.logger.level = 1 # Lower verbosity level\n",
        "result = agent.run(\n",
        "    task,\n",
        "    additional_args={\"suppliers_data\": df},\n",
        ")"
      ],
      "metadata": {
        "id": "vEDk4zKBX7gZ"
      },
      "execution_count": null,
      "outputs": []
    },
    {
      "cell_type": "code",
      "source": [
        "print(result)"
      ],
      "metadata": {
        "colab": {
          "base_uri": "https://localhost:8080/"
        },
        "id": "pX6-LxIv1KCv",
        "outputId": "9aa04239-fdda-4d6a-f72a-5a84672a3bd6"
      },
      "execution_count": 115,
      "outputs": [
        {
          "output_type": "stream",
          "name": "stdout",
          "text": [
            "   distance_km  time_hr  speed_kmph\n",
            "0           10     0.50   20.000000\n",
            "1           25     1.00   25.000000\n",
            "2           50     1.50   33.333333\n",
            "3          100     2.00   50.000000\n",
            "4            5     0.25   20.000000\n"
          ]
        }
      ]
    },
    {
      "cell_type": "markdown",
      "source": [
        "From the above it can be seen that agent was able to generate the code to calculate the speed, the values are correct."
      ],
      "metadata": {
        "id": "PIffKBERvnKn"
      }
    },
    {
      "cell_type": "markdown",
      "source": [
        "**Creating another dataset**"
      ],
      "metadata": {
        "id": "RBPubfexxIB8"
      }
    },
    {
      "cell_type": "code",
      "source": [
        "import pandas as pd\n",
        "\n",
        "data = {\n",
        "    \"age\": [25, 32, 45, 29, 60],\n",
        "    \"weight_kg\": [70, 85, 95, 68, 72],\n",
        "    \"height_cm\": [175, 180, 165, 160, 170],\n",
        "    \"waist_cm\": [82, 90, 105, 78, 85],\n",
        "    \"hip_cm\": [95, 100, 110, 92, 98],\n",
        "    \"systolic_bp\": [120, 135, 145, 118, 130],\n",
        "    \"diastolic_bp\": [80, 88, 92, 76, 85],\n",
        "    \"resting_heart_rate\": [72, 80, 78, 70, 74],\n",
        "    \"cholesterol_mg_dl\": [180, 220, 250, 170, 200],\n",
        "    \"glucose_mg_dl\": [90, 105, 130, 85, 110]\n",
        "}\n",
        "\n",
        "df = pd.DataFrame(data)\n",
        "\n",
        "# Calculate BMI = weight (kg) / (height (m))^2\n",
        "df[\"bmi\"] = df[\"weight_kg\"] / ((df[\"height_cm\"] / 100) ** 2)\n",
        "\n",
        "df.head()\n"
      ],
      "metadata": {
        "id": "m7ixwQYWX7jp"
      },
      "execution_count": null,
      "outputs": []
    },
    {
      "cell_type": "code",
      "source": [
        "df = df.drop('bmi',axis = 1)"
      ],
      "metadata": {
        "id": "-QGqKaMHLr_M"
      },
      "execution_count": 117,
      "outputs": []
    },
    {
      "cell_type": "markdown",
      "source": [
        "**Task isto analyse the dataset and create all important columns based on the existing ones( to test feature engineering)**"
      ],
      "metadata": {
        "id": "5HrxgBuzxt1w"
      }
    },
    {
      "cell_type": "code",
      "source": [
        "task = \"\"\"Here is a dataframe, analyse it properly.\n",
        "Could you give the important feature engineering columns each of them and add it to the existing dataframe?\n",
        "\"\"\"\n",
        "agent.logger.level = 1 # Lower verbosity level\n",
        "result = agent.run(\n",
        "    task,\n",
        "    additional_args={\"suppliers_data\": df},\n",
        ")"
      ],
      "metadata": {
        "id": "WHercbsJLsDX"
      },
      "execution_count": null,
      "outputs": []
    },
    {
      "cell_type": "markdown",
      "source": [
        "The agent was able to successfully generate the code to generate new features"
      ],
      "metadata": {
        "id": "ZF8gZqgJyMjs"
      }
    },
    {
      "cell_type": "code",
      "source": [
        "print(result)\n"
      ],
      "metadata": {
        "colab": {
          "base_uri": "https://localhost:8080/"
        },
        "id": "yjGKI0rzMBaJ",
        "outputId": "05ed8488-3680-4369-f2b1-ccde271ca265"
      },
      "execution_count": 119,
      "outputs": [
        {
          "output_type": "stream",
          "name": "stdout",
          "text": [
            "   age  weight_kg  height_cm  waist_cm  hip_cm  systolic_bp  diastolic_bp  \\\n",
            "0   25         70        175        82      95          120            80   \n",
            "1   32         85        180        90     100          135            88   \n",
            "2   45         95        165       105     110          145            92   \n",
            "3   29         68        160        78      92          118            76   \n",
            "4   60         72        170        85      98          130            85   \n",
            "\n",
            "   resting_heart_rate  cholesterol_mg_dl  glucose_mg_dl        BMI  \\\n",
            "0                  72                180             90  22.857143   \n",
            "1                  80                220            105  26.234568   \n",
            "2                  78                250            130  34.894399   \n",
            "3                  70                170             85  26.562500   \n",
            "4                  74                200            110  24.913495   \n",
            "\n",
            "   Waist_to_Hip_Ratio  Blood_Pressure_Ratio  Cholesterol_to_Glucose_Ratio  \\\n",
            "0            0.863158              1.500000                      2.000000   \n",
            "1            0.900000              1.534091                      2.095238   \n",
            "2            0.954545              1.576087                      1.923077   \n",
            "3            0.847826              1.552632                      2.000000   \n",
            "4            0.867347              1.529412                      1.818182   \n",
            "\n",
            "     Age_Group  \n",
            "0        Young  \n",
            "1  Middle-aged  \n",
            "2  Middle-aged  \n",
            "3        Young  \n",
            "4       Senior  \n"
          ]
        }
      ]
    },
    {
      "cell_type": "code",
      "source": [],
      "metadata": {
        "id": "X-v2AiHjMBdZ"
      },
      "execution_count": null,
      "outputs": []
    },
    {
      "cell_type": "code",
      "source": [],
      "metadata": {
        "id": "hOqprt9gX7m7"
      },
      "execution_count": null,
      "outputs": []
    },
    {
      "cell_type": "code",
      "source": [],
      "metadata": {
        "id": "4rRZi9nByaQV"
      },
      "execution_count": null,
      "outputs": []
    },
    {
      "cell_type": "code",
      "source": [],
      "metadata": {
        "id": "Ww22xsRSNviC"
      },
      "execution_count": null,
      "outputs": []
    }
  ]
}